{
 "cells": [
  {
   "cell_type": "code",
   "execution_count": 108,
   "id": "f7a8484f-5370-4399-b85b-67a0679e8568",
   "metadata": {},
   "outputs": [
    {
     "name": "stdout",
     "output_type": "stream",
     "text": [
      "The autoreload extension is already loaded. To reload it, use:\n",
      "  %reload_ext autoreload\n"
     ]
    }
   ],
   "source": [
    "%load_ext autoreload\n",
    "%autoreload 2"
   ]
  },
  {
   "cell_type": "markdown",
   "id": "0da8b6b3-033f-4f3d-aaff-9c208ab166a6",
   "metadata": {},
   "source": [
    "## Load and preprocess data"
   ]
  },
  {
   "cell_type": "code",
   "execution_count": 109,
   "id": "c50f3e85-c93c-4368-8779-a76e7ffb0d99",
   "metadata": {},
   "outputs": [],
   "source": [
    "# !pip install pytorch-lifestream\n",
    "# !pip install numpy==1.23\n",
    "# !pip install pytorch-lightning==1.6"
   ]
  },
  {
   "cell_type": "code",
   "execution_count": 110,
   "id": "f663c213-50c9-461d-992d-fa8ea743e6cc",
   "metadata": {},
   "outputs": [],
   "source": [
    "from data_utils import download_data, preprocess_data, split_data, get_loader\n",
    "from model_utils import embedder_model\n",
    "from train_utils import train_emb_model, get_embeddings, get_trainer"
   ]
  },
  {
   "cell_type": "code",
   "execution_count": 111,
   "id": "02c27da1-98d3-4a56-a785-d449cf6e62d4",
   "metadata": {},
   "outputs": [
    {
     "name": "stdout",
     "output_type": "stream",
     "text": [
      "Data saved in <data> folder\n"
     ]
    }
   ],
   "source": [
    "data_path = download_data()"
   ]
  },
  {
   "cell_type": "code",
   "execution_count": 119,
   "id": "21cfd194-d7c0-439e-a537-2efe98857be5",
   "metadata": {},
   "outputs": [
    {
     "name": "stdout",
     "output_type": "stream",
     "text": [
      "Preprocessor loaded\n",
      "CPU times: user 46.7 s, sys: 4.66 s, total: 51.3 s\n",
      "Wall time: 51.1 s\n"
     ]
    }
   ],
   "source": [
    "%%time\n",
    "processed_data = preprocess_data(data_path)"
   ]
  },
  {
   "cell_type": "code",
   "execution_count": 120,
   "id": "da820283-0784-4bd9-8678-512651acf83e",
   "metadata": {},
   "outputs": [
    {
     "name": "stdout",
     "output_type": "stream",
     "text": [
      "22500 users in train, 7500 users in test\n"
     ]
    }
   ],
   "source": [
    "train, test = split_data(processed_data, test_size=0.25)"
   ]
  },
  {
   "cell_type": "code",
   "execution_count": 134,
   "id": "7dc7af2f-1d45-4884-8017-5be99c08f8f8",
   "metadata": {},
   "outputs": [],
   "source": [
    "train_loader = get_loader(train)\n",
    "val_loader = get_loader(test)\n",
    "all_loader = get_loader(processed_data)"
   ]
  },
  {
   "cell_type": "markdown",
   "id": "a4d8788e-d69f-422c-a407-699189322d98",
   "metadata": {},
   "source": [
    "## Train embedder model"
   ]
  },
  {
   "cell_type": "code",
   "execution_count": 122,
   "id": "1014c5e0-61e9-4693-8ca7-cb9e0ae17af4",
   "metadata": {},
   "outputs": [
    {
     "name": "stdout",
     "output_type": "stream",
     "text": [
      "Load embedding model from checkpoint\n"
     ]
    }
   ],
   "source": [
    "model = embedder_model()\n",
    "n_epochs = 10"
   ]
  },
  {
   "cell_type": "code",
   "execution_count": 141,
   "id": "333de0ab-ccda-42f4-b59d-91df413511b4",
   "metadata": {},
   "outputs": [
    {
     "name": "stderr",
     "output_type": "stream",
     "text": [
      "GPU available: True, used: True\n",
      "TPU available: False, using: 0 TPU cores\n",
      "IPU available: False, using: 0 IPUs\n",
      "HPU available: False, using: 0 HPUs\n",
      "/opt/conda/lib/python3.9/site-packages/pytorch_lightning/trainer/configuration_validator.py:133: UserWarning: You defined a `validation_step` but have no `val_dataloader`. Skipping val loop.\n",
      "  rank_zero_warn(\"You defined a `validation_step` but have no `val_dataloader`. Skipping val loop.\")\n",
      "LOCAL_RANK: 0 - CUDA_VISIBLE_DEVICES: [0]\n",
      "\n",
      "  | Name               | Type            | Params\n",
      "-------------------------------------------------------\n",
      "0 | _loss              | ContrastiveLoss | 0     \n",
      "1 | _seq_encoder       | RnnSeqEncoder   | 79.5 K\n",
      "2 | _validation_metric | BatchRecallTopK | 0     \n",
      "3 | _head              | Head            | 0     \n",
      "-------------------------------------------------------\n",
      "79.5 K    Trainable params\n",
      "0         Non-trainable params\n",
      "79.5 K    Total params\n",
      "0.318     Total estimated model params size (MB)\n",
      "/opt/conda/lib/python3.9/site-packages/torch/utils/data/dataloader.py:557: UserWarning: This DataLoader will create 16 worker processes in total. Our suggested max number of worker in current system is 6, which is smaller than what this DataLoader is going to create. Please be aware that excessive worker creation might get DataLoader running slow or even freeze, lower the worker number to avoid potential slowness/freeze if necessary.\n",
      "  warnings.warn(_create_warning_msg(\n"
     ]
    },
    {
     "data": {
      "application/vnd.jupyter.widget-view+json": {
       "model_id": "36d71deeaaeb4840b554f3e4c73bc2c3",
       "version_major": 2,
       "version_minor": 0
      },
      "text/plain": [
       "Training: 0it [00:00, ?it/s]"
      ]
     },
     "metadata": {},
     "output_type": "display_data"
    },
    {
     "name": "stdout",
     "output_type": "stream",
     "text": [
      "{'loss': tensor(59.0694), 'seq_len': tensor(108.0583)}\n"
     ]
    }
   ],
   "source": [
    "_ = train_emb_model(model, all_loader, n_epochs=n_epochs)"
   ]
  },
  {
   "cell_type": "markdown",
   "id": "f0b90486-33f9-4190-afb2-8b2e0a991fee",
   "metadata": {},
   "source": [
    "## Obtain embeddings"
   ]
  },
  {
   "cell_type": "code",
   "execution_count": 137,
   "id": "37e0d727-98e8-4e1c-8cc8-7fe3c24bb749",
   "metadata": {},
   "outputs": [
    {
     "name": "stderr",
     "output_type": "stream",
     "text": [
      "/opt/conda/lib/python3.9/site-packages/pytorch_lightning/loops/utilities.py:91: PossibleUserWarning: `max_epochs` was not set. Setting it to 1000 epochs. To train without an epoch limit, set `max_epochs=-1`.\n",
      "  rank_zero_warn(\n",
      "GPU available: True, used: True\n",
      "TPU available: False, using: 0 TPU cores\n",
      "IPU available: False, using: 0 IPUs\n",
      "HPU available: False, using: 0 HPUs\n",
      "LOCAL_RANK: 0 - CUDA_VISIBLE_DEVICES: [0]\n",
      "/opt/conda/lib/python3.9/site-packages/pytorch_lightning/trainer/connectors/data_connector.py:240: PossibleUserWarning: The dataloader, predict_dataloader 0, does not have many workers which may be a bottleneck. Consider increasing the value of the `num_workers` argument` (try 12 which is the number of cpus on this machine) in the `DataLoader` init to improve performance.\n",
      "  rank_zero_warn(\n"
     ]
    },
    {
     "data": {
      "application/vnd.jupyter.widget-view+json": {
       "model_id": "2e4434efbd0a4a7bb5b68fbdae99ea1e",
       "version_major": 2,
       "version_minor": 0
      },
      "text/plain": [
       "Predicting: 0it [00:00, ?it/s]"
      ]
     },
     "metadata": {},
     "output_type": "display_data"
    },
    {
     "name": "stdout",
     "output_type": "stream",
     "text": [
      "Getting embedding of shape torch.Size([22500, 128])\n"
     ]
    }
   ],
   "source": [
    "train_embeds = get_embeddings(model, train)"
   ]
  },
  {
   "cell_type": "code",
   "execution_count": 138,
   "id": "1dae9349-ff5e-44dc-8582-b4390693a7cd",
   "metadata": {},
   "outputs": [
    {
     "name": "stderr",
     "output_type": "stream",
     "text": [
      "GPU available: True, used: True\n",
      "TPU available: False, using: 0 TPU cores\n",
      "IPU available: False, using: 0 IPUs\n",
      "HPU available: False, using: 0 HPUs\n",
      "LOCAL_RANK: 0 - CUDA_VISIBLE_DEVICES: [0]\n"
     ]
    },
    {
     "data": {
      "application/vnd.jupyter.widget-view+json": {
       "model_id": "7399e53dc686420697400e9fd27a5a94",
       "version_major": 2,
       "version_minor": 0
      },
      "text/plain": [
       "Predicting: 0it [00:00, ?it/s]"
      ]
     },
     "metadata": {},
     "output_type": "display_data"
    },
    {
     "name": "stdout",
     "output_type": "stream",
     "text": [
      "Getting embedding of shape torch.Size([7500, 128])\n"
     ]
    }
   ],
   "source": [
    "val_embeds = get_embeddings(model, test)"
   ]
  },
  {
   "cell_type": "markdown",
   "id": "07e2bc65-f709-409c-83a6-57e8e9bf62d8",
   "metadata": {},
   "source": [
    "## Evaluate on classification task"
   ]
  },
  {
   "cell_type": "code",
   "execution_count": 139,
   "id": "3942eaf7-77b4-4c3a-aa33-1889ce768a54",
   "metadata": {},
   "outputs": [
    {
     "name": "stdout",
     "output_type": "stream",
     "text": [
      "(22500, 130) (7500, 130)\n"
     ]
    }
   ],
   "source": [
    "import os# join target and embeddings\n",
    "data_path = 'data/'\n",
    "df_target = pd.read_csv(os.path.join(data_path, 'train_target.csv'))\n",
    "df_target = df_target.set_index('client_id')\n",
    "df_target.rename(columns={\"bins\": \"target\"}, inplace=True)\n",
    "\n",
    "train_df = pd.DataFrame(data=train_embeds, columns=[f'embed_{i}' for i in range(train_embeds.shape[1])])\n",
    "train_df['client_id'] = [x['client_id'] for x in train]\n",
    "train_df = train_df.merge(df_target, how='left', on='client_id')\n",
    "\n",
    "test_df = pd.DataFrame(data=val_embeds, columns=[f'embed_{i}' for i in range(val_embeds.shape[1])])\n",
    "test_df['client_id'] = [x['client_id'] for x in test]\n",
    "test_df = test_df.merge(df_target, how='left', on='client_id')\n",
    "\n",
    "print(train_df.shape, test_df.shape)"
   ]
  },
  {
   "cell_type": "code",
   "execution_count": 140,
   "id": "baa0b2af-563f-400f-ad24-9e648c70555d",
   "metadata": {},
   "outputs": [
    {
     "data": {
      "text/plain": [
       "0.588"
      ]
     },
     "execution_count": 140,
     "metadata": {},
     "output_type": "execute_result"
    }
   ],
   "source": [
    "from sklearn.ensemble import RandomForestClassifier\n",
    "\n",
    "embed_columns = [x for x in train_df.columns if x.startswith('embed')]\n",
    "x_train, y_train = train_df[embed_columns], train_df['target']\n",
    "x_test, y_test = test_df[embed_columns], test_df['target']\n",
    "\n",
    "clf = RandomForestClassifier()\n",
    "clf.fit(x_train, y_train)\n",
    "clf.score(x_test, y_test)"
   ]
  }
 ],
 "metadata": {
  "kernelspec": {
   "display_name": "Python 3 (ipykernel)",
   "language": "python",
   "name": "python3"
  },
  "language_info": {
   "codemirror_mode": {
    "name": "ipython",
    "version": 3
   },
   "file_extension": ".py",
   "mimetype": "text/x-python",
   "name": "python",
   "nbconvert_exporter": "python",
   "pygments_lexer": "ipython3",
   "version": "3.9.7"
  }
 },
 "nbformat": 4,
 "nbformat_minor": 5
}
